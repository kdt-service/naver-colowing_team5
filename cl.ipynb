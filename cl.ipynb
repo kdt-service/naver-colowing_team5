{
 "cells": [
  {
   "cell_type": "code",
   "execution_count": null,
   "metadata": {},
   "outputs": [],
   "source": [
    "def clear_content(self, text):\n",
    "        remove_special = re.sub('[∙©️\\{\\}\\[\\]\\/?,;:|\\)*~`!^\\-_+<>@\\#$%&n▲▶️◆◀️■\\\\\\=\\(\\'\\\"]', '', text)  # 특수문자 제거\n",
    "        remove_author = re.sub('\\w\\w\\w 기자', '', remove_special) # 작성자 제거\n",
    "        remove_flash_error = re.sub('본문 내용|TV플레이어| 동영상 뉴스|flash 오류를 우회하기 위한 함수 추가fuctio flashremoveCallback|tt|t|앵커 멘트|xa0', '', remove_author) # 불필요 내용 제거\n",
    "        remove_strip = remove_flash_error.strip().replace('   ', '') # 공백 에러 삭제\n",
    "        # 기사 내용을 reverse 한다.\n",
    "        return cleared_content"
   ]
  }
 ],
 "metadata": {
  "language_info": {
   "name": "python"
  },
  "orig_nbformat": 4
 },
 "nbformat": 4,
 "nbformat_minor": 2
}
